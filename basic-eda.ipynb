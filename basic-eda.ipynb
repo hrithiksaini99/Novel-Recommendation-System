{
 "cells": [
  {
   "cell_type": "markdown",
   "metadata": {},
   "source": [
    "# Basic Exploration\n",
    "As of this notebook, I've only pulled pages 1-100, which gives me around 10,000 books.  This notebook will browse through this data briefly just to get an idea about what we're dealing with."
   ]
  },
  {
   "cell_type": "code",
   "execution_count": 4,
   "metadata": {},
   "outputs": [
    {
     "name": "stdout",
     "output_type": "stream",
     "text": [
      "Collecting seaborn\n",
      "  Downloading seaborn-0.11.1-py3-none-any.whl (285 kB)\n",
      "Requirement already satisfied: pandas>=0.23 in c:\\users\\hrithik\\desktop\\book-recommendation-system-master\\env\\lib\\site-packages (from seaborn) (1.2.4)\n",
      "Requirement already satisfied: matplotlib>=2.2 in c:\\users\\hrithik\\desktop\\book-recommendation-system-master\\env\\lib\\site-packages (from seaborn) (3.4.2)\n",
      "Collecting scipy>=1.0\n",
      "  Using cached scipy-1.6.3-cp39-cp39-win_amd64.whl (32.7 MB)\n",
      "Requirement already satisfied: numpy>=1.15 in c:\\users\\hrithik\\desktop\\book-recommendation-system-master\\env\\lib\\site-packages (from seaborn) (1.20.3)\n",
      "Requirement already satisfied: cycler>=0.10 in c:\\users\\hrithik\\desktop\\book-recommendation-system-master\\env\\lib\\site-packages (from matplotlib>=2.2->seaborn) (0.10.0)\n",
      "Requirement already satisfied: pyparsing>=2.2.1 in c:\\users\\hrithik\\desktop\\book-recommendation-system-master\\env\\lib\\site-packages (from matplotlib>=2.2->seaborn) (2.4.7)\n",
      "Requirement already satisfied: pillow>=6.2.0 in c:\\users\\hrithik\\desktop\\book-recommendation-system-master\\env\\lib\\site-packages (from matplotlib>=2.2->seaborn) (8.2.0)\n",
      "Requirement already satisfied: python-dateutil>=2.7 in c:\\users\\hrithik\\desktop\\book-recommendation-system-master\\env\\lib\\site-packages (from matplotlib>=2.2->seaborn) (2.8.1)\n",
      "Requirement already satisfied: kiwisolver>=1.0.1 in c:\\users\\hrithik\\desktop\\book-recommendation-system-master\\env\\lib\\site-packages (from matplotlib>=2.2->seaborn) (1.3.1)\n",
      "Requirement already satisfied: six in c:\\users\\hrithik\\desktop\\book-recommendation-system-master\\env\\lib\\site-packages (from cycler>=0.10->matplotlib>=2.2->seaborn) (1.16.0)\n",
      "Requirement already satisfied: pytz>=2017.3 in c:\\users\\hrithik\\desktop\\book-recommendation-system-master\\env\\lib\\site-packages (from pandas>=0.23->seaborn) (2021.1)\n",
      "Installing collected packages: scipy, seaborn\n",
      "Successfully installed scipy-1.6.3 seaborn-0.11.1\n",
      "Note: you may need to restart the kernel to use updated packages.\n"
     ]
    }
   ],
   "source": [
    "pip install seaborn"
   ]
  },
  {
   "cell_type": "code",
   "execution_count": 2,
   "metadata": {},
   "outputs": [
    {
     "ename": "ModuleNotFoundError",
     "evalue": "No module named 'matplotlib'",
     "output_type": "error",
     "traceback": [
      "\u001b[1;31m---------------------------------------------------------------------------\u001b[0m",
      "\u001b[1;31mModuleNotFoundError\u001b[0m                       Traceback (most recent call last)",
      "\u001b[1;32m<ipython-input-2-cdb27b33c61e>\u001b[0m in \u001b[0;36m<module>\u001b[1;34m\u001b[0m\n\u001b[0;32m      1\u001b[0m \u001b[1;32mimport\u001b[0m \u001b[0mpandas\u001b[0m \u001b[1;32mas\u001b[0m \u001b[0mpd\u001b[0m\u001b[1;33m\u001b[0m\u001b[1;33m\u001b[0m\u001b[0m\n\u001b[0;32m      2\u001b[0m \u001b[1;33m\u001b[0m\u001b[0m\n\u001b[1;32m----> 3\u001b[1;33m \u001b[1;32mimport\u001b[0m \u001b[0mmatplotlib\u001b[0m\u001b[1;33m.\u001b[0m\u001b[0mpyplot\u001b[0m \u001b[1;32mas\u001b[0m \u001b[0mplt\u001b[0m\u001b[1;33m\u001b[0m\u001b[1;33m\u001b[0m\u001b[0m\n\u001b[0m\u001b[0;32m      4\u001b[0m \u001b[0mget_ipython\u001b[0m\u001b[1;33m(\u001b[0m\u001b[1;33m)\u001b[0m\u001b[1;33m.\u001b[0m\u001b[0mrun_line_magic\u001b[0m\u001b[1;33m(\u001b[0m\u001b[1;34m'matplotlib'\u001b[0m\u001b[1;33m,\u001b[0m \u001b[1;34m'inline'\u001b[0m\u001b[1;33m)\u001b[0m\u001b[1;33m\u001b[0m\u001b[1;33m\u001b[0m\u001b[0m\n\u001b[0;32m      5\u001b[0m \u001b[1;33m\u001b[0m\u001b[0m\n",
      "\u001b[1;31mModuleNotFoundError\u001b[0m: No module named 'matplotlib'"
     ]
    }
   ],
   "source": [
    "import pandas as pd\n",
    "\n",
    "import matplotlib.pyplot as plt\n",
    "%matplotlib inline\n",
    "\n",
    "import seaborn as sns"
   ]
  },
  {
   "cell_type": "code",
   "execution_count": null,
   "metadata": {},
   "outputs": [],
   "source": [
    "books = pd.read_csv('./scraper/output/pages-1-100.tsv', sep='\\t')"
   ]
  },
  {
   "cell_type": "markdown",
   "metadata": {},
   "source": [
    "Just as a reminder, here are the columns with the top two rows for example:\n",
    "\n",
    "* `title` - The title of the book in the language of this particular edition.\n",
    "* `original_title` - The title in the original language (this is usually the same as `title`).\n",
    "* `series` - The name of the series the book belongs to, if any.\n",
    "* `authors` - A comma separated list of the contributing authors.  Roles are sometimes listed in (brackets) after their name.\n",
    "* `avg_rating` - The average rating out of 5 that the book has across all ratings.\n",
    "* `num_ratings` - How many times was the book rated (by which `avg_rating` was calculated from).\n",
    "* `num_reviews` - How many times was the book reviewed?\n",
    "* `genres` - A comma separated list of the top genres listed on this book's page.\n",
    "* `description` - The description of the book on the book's page, similar to the blurb."
   ]
  },
  {
   "cell_type": "code",
   "execution_count": null,
   "metadata": {},
   "outputs": [],
   "source": [
    "books.head(2)"
   ]
  },
  {
   "cell_type": "markdown",
   "metadata": {},
   "source": [
    "## Missing values\n",
    "There are some columns that *should* have missing values.  The `original_title` is not always available.  Books are not always part of a `series`.  The `language` isn't always specified.  Ideally, every other field should be present, but it cannot always be guaranteed.  However, `title` should always exist and be valid, as should its `url`.\n",
    "\n",
    "Looking below, `series` is missing the most, which is fine.  I cannot guarantee that books that have no `series` are not actually in a series - that's up to the editors to add on the website.  `original_title`, as mentioned above, is not always present in the book's metadata.  The `language` being missing from some books is a shame, but it's not always listed either.  `genres` and `description` warrant further investigation, as ideally these should be present."
   ]
  },
  {
   "cell_type": "code",
   "execution_count": null,
   "metadata": {},
   "outputs": [],
   "source": [
    "books.isnull().sum().sort_values(ascending=False)"
   ]
  },
  {
   "cell_type": "markdown",
   "metadata": {},
   "source": [
    "### Missing genres\n",
    "Looking at the top two missing genres (by opening the URL in a browser), the genres are just plain missing.  As mentioned earlier, some elements we'd like to have present always are omitted from the page.  Unfortunate, but there's not much we can do other than find the genres manually!"
   ]
  },
  {
   "cell_type": "code",
   "execution_count": null,
   "metadata": {},
   "outputs": [],
   "source": [
    "books[books.genres.isnull()].head(2).url.values"
   ]
  },
  {
   "cell_type": "markdown",
   "metadata": {},
   "source": [
    "### Missing description\n",
    "Again, eyeballing the top two missing descriptions, it seems that they are also missing from the page entirely.  Shame!"
   ]
  },
  {
   "cell_type": "code",
   "execution_count": null,
   "metadata": {},
   "outputs": [],
   "source": [
    "books[books.description.isnull()].head(2).url.values"
   ]
  },
  {
   "cell_type": "markdown",
   "metadata": {},
   "source": [
    "## Genres\n",
    "Let's have a look at which genres exist and how many books are in each category.  Looking at the unique tags (i.e., printing out the index of `split_genres_counts`) shows some questionable categories for what I'd consider a genre.  I think these should be instead referred to as user tags rather than genres.  Unfortunately, when working with user data, problems like this rise.\n",
    "\n",
    "Looking at the graphs below, we can see that fantasy, fiction, romance, young adult, and historical are the most popular genres.  On the other hand, cycling, earth, quantum mechanics (boo!), social work, and urban planning are the least popular."
   ]
  },
  {
   "cell_type": "code",
   "execution_count": null,
   "metadata": {},
   "outputs": [],
   "source": [
    "# Split all strings and manipulate so that we have an index per row repeated as many times as there is genres for that entry.\n",
    "split_genres = books.loc[books.genres.notnull(), 'genres'].str.split(',', expand=True).stack().reset_index(level=-1, drop=True)\n",
    "# Count how many entries exist per category and sort them.\n",
    "split_genres_counts = split_genres.value_counts().sort_values(ascending=False)\n",
    "\n",
    "# Plot the top 5.\n",
    "sns.barplot(y=split_genres_counts[:5], x=split_genres_counts.index[:5])\n",
    "sns.despine()\n",
    "plt.xlabel('Genre')\n",
    "plt.ylabel('Amount')\n",
    "plt.title('Top 5 genres by amount')\n",
    "plt.show()\n",
    "\n",
    "# And the bottom 5.\n",
    "g = sns.barplot(y=split_genres_counts[-5:], x=split_genres_counts.index[-5:])\n",
    "g.set_xticklabels(g.get_xticklabels(), rotation=15, ha='center')\n",
    "sns.despine()\n",
    "plt.xlabel('Genre')\n",
    "plt.ylabel('Amount')\n",
    "plt.title('Bottom 5 genres by amount')\n",
    "plt.show()"
   ]
  },
  {
   "cell_type": "markdown",
   "metadata": {},
   "source": [
    "## Authors\n",
    "TODO: Split authors as above, find most popular author."
   ]
  },
  {
   "cell_type": "markdown",
   "metadata": {},
   "source": [
    "## Series\n",
    "TODO: Find series with the most entries."
   ]
  },
  {
   "cell_type": "code",
   "execution_count": null,
   "metadata": {},
   "outputs": [],
   "source": []
  },
  {
   "cell_type": "code",
   "execution_count": null,
   "metadata": {},
   "outputs": [],
   "source": []
  }
 ],
 "metadata": {
  "kernelspec": {
   "display_name": "Python 3",
   "language": "python",
   "name": "python3"
  },
  "language_info": {
   "codemirror_mode": {
    "name": "ipython",
    "version": 3
   },
   "file_extension": ".py",
   "mimetype": "text/x-python",
   "name": "python",
   "nbconvert_exporter": "python",
   "pygments_lexer": "ipython3",
   "version": "3.9.4"
  }
 },
 "nbformat": 4,
 "nbformat_minor": 2
}
